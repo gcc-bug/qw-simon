{
 "cells": [
  {
   "cell_type": "markdown",
   "metadata": {},
   "source": [
    "应用pyeda生成参考文档中真值表对应的表达式，即：\n",
    "| $x$ | $f(x)$ |\n",
    " | :-----| ----: |\n",
    " | 000 | 101 | \n",
    " | 001 | 010 | \n",
    " | 010 | 101 | \n",
    " | 011 | 010 | \n",
    " | 100 | 000 | \n",
    " | 101 | 110 | \n",
    " | 110 | 000 | \n",
    " | 111 | 110 | "
   ]
  },
  {
   "cell_type": "code",
   "execution_count": 1,
   "metadata": {},
   "outputs": [
    {
     "name": "stdout",
     "output_type": "stream",
     "text": [
      "f1(A, B, C) = Or(And(~a, ~b, ~c), And(~a, b, ~c), And(a, ~b, c), And(a, b, c))\n",
      "f2(A, B, C) = Or(And(a, ~b, ~c), And(a, b, ~c), And(a, ~b, c), And(a, b, c))\n",
      "f3(A, B, C) = Or(And(~a, ~b, ~c), And(~a, b, ~c))\n"
     ]
    }
   ],
   "source": [
    "from pyeda.inter import exprvar, truthtable, truthtable2expr\n",
    "# Define the input variables\n",
    "a, b , c  = map(exprvar, 'abc')\n",
    "\n",
    "# Define the truth table outputs for each function\n",
    "f1_outputs = [1, 0, 1, 0, 0, 1, 0, 1]  # Output for f1\n",
    "f2_outputs = [0, 1, 0, 1, 0, 1, 0, 1]  # Output for f2\n",
    "f3_outputs = [1, 0, 1, 0, 0, 0, 0, 0]  # Output for f3\n",
    "\n",
    "# Convert truth values to expressions for f1, f2, f3\n",
    "f1 = truthtable([a, b, c], f1_outputs)\n",
    "f2 = truthtable([a, b, c], f2_outputs)\n",
    "f3 = truthtable([a, b, c], f3_outputs)\n",
    "\n",
    "# Convert truth tables to expressions\n",
    "f1_expr = truthtable2expr(f1).simplify()\n",
    "f2_expr = truthtable2expr(f2).simplify()\n",
    "f3_expr = truthtable2expr(f3).simplify()\n",
    "\n",
    "# Print the derived expressions\n",
    "print(\"f1(A, B, C) =\", f1_expr)\n",
    "print(\"f2(A, B, C) =\", f2_expr)\n",
    "print(\"f3(A, B, C) =\", f3_expr)"
   ]
  },
  {
   "cell_type": "markdown",
   "metadata": {},
   "source": [
    "根据逻辑表达式，生成对应的oracle"
   ]
  },
  {
   "cell_type": "code",
   "execution_count": 2,
   "metadata": {},
   "outputs": [
    {
     "name": "stdout",
     "output_type": "stream",
     "text": [
      "f1:                \n",
      "q_0: ──■───────\n",
      "       │       \n",
      "q_1: ──┼───────\n",
      "       │       \n",
      "q_2: ──┼────o──\n",
      "     ┌─┴─┐┌─┴─┐\n",
      "q_3: ┤ X ├┤ X ├\n",
      "     └───┘└───┘ \n",
      "\n",
      "f2:           \n",
      "q_0: ──■──\n",
      "       │  \n",
      "q_1: ──┼──\n",
      "       │  \n",
      "q_2: ──┼──\n",
      "     ┌─┴─┐\n",
      "q_3: ┤ X ├\n",
      "     └───┘ \n",
      "\n",
      "f3:           \n",
      "q_0: ──o──\n",
      "       │  \n",
      "q_1: ──┼──\n",
      "       │  \n",
      "q_2: ──o──\n",
      "     ┌─┴─┐\n",
      "q_3: ┤ X ├\n",
      "     └───┘ \n",
      "\n"
     ]
    }
   ],
   "source": [
    "from qiskit.circuit.classicalfunction import classical_function\n",
    "from qiskit.circuit.classicalfunction.types import Int1\n",
    " \n",
    "@classical_function\n",
    "def simon_oracle_f1(a: Int1, b: Int1, c: Int1) -> Int1:\n",
    "    return (not a and not c) or (a and c)\n",
    "@classical_function\n",
    "def simon_oracle_f2(a: Int1, b: Int1, c: Int1) -> Int1:\n",
    "    return a\n",
    "@classical_function\n",
    "def simon_oracle_f3(a: Int1, b: Int1, c: Int1) -> Int1:\n",
    "    return not a and not c\n",
    " \n",
    "f1 = simon_oracle_f1.synth(registerless=True)\n",
    "f2 = simon_oracle_f2.synth(registerless=True)\n",
    "f3 = simon_oracle_f3.synth(registerless=True)\n",
    "\n",
    "print(\"f1:\",f1.draw(),\"\\n\")\n",
    "print(\"f2:\",f2.draw(),\"\\n\")\n",
    "print(\"f3:\",f3.draw(),\"\\n\")"
   ]
  },
  {
   "cell_type": "markdown",
   "metadata": {},
   "source": [
    "根据oracle生成所需的线路，并运行"
   ]
  },
  {
   "cell_type": "code",
   "execution_count": 3,
   "metadata": {},
   "outputs": [
    {
     "data": {
      "image/png": "[encoded data removed]",
      "text/plain": [
       "<Figure size 1297.35x618.722 with 1 Axes>"
      ]
     },
     "execution_count": 3,
     "metadata": {},
     "output_type": "execute_result"
    }
   ],
   "source": [
    "from qiskit import QuantumCircuit, QuantumRegister, ClassicalRegister\n",
    "\n",
    "oracle_space = QuantumRegister(3, 'x')\n",
    "f_space = QuantumRegister(3, 'y')\n",
    "c_reg = ClassicalRegister(3,'measure')\n",
    "\n",
    "simon_qc = QuantumCircuit(oracle_space,f_space,c_reg)\n",
    "\n",
    "# h on the first resgister\n",
    "simon_qc.h(oracle_space)\n",
    "\n",
    "# work oracle\n",
    "simon_qc.cx(oracle_space[0],f_space[0])\n",
    "simon_qc.x(oracle_space[2])\n",
    "simon_qc.cx(oracle_space[2],f_space[0])\n",
    "simon_qc.x(oracle_space[2])\n",
    "\n",
    "simon_qc.cx(oracle_space[0],f_space[1])\n",
    "\n",
    "simon_qc.x(oracle_space[0])\n",
    "simon_qc.x(oracle_space[2])\n",
    "simon_qc.mcx([oracle_space[0],oracle_space[2]],f_space[2])\n",
    "simon_qc.x(oracle_space[0])\n",
    "simon_qc.x(oracle_space[2])\n",
    "\n",
    "# h on the first resgister\n",
    "simon_qc.h(oracle_space)\n",
    "\n",
    "# measure\n",
    "for i in range(3):\n",
    "        simon_qc.measure(oracle_space[i], c_reg[2-i])\n",
    "\n",
    "simon_qc.draw(output='mpl')"
   ]
  },
  {
   "cell_type": "code",
   "execution_count": 4,
   "metadata": {},
   "outputs": [
    {
     "data": {
      "text/plain": [
       "[{0: 0.25, 1: 0.25, 4: 0.25, 5: 0.25}]"
      ]
     },
     "execution_count": 4,
     "metadata": {},
     "output_type": "execute_result"
    }
   ],
   "source": [
    "from qiskit.primitives import Sampler\n",
    "result = Sampler().run(simon_qc).result()\n",
    "result.quasi_dists"
   ]
  },
  {
   "cell_type": "markdown",
   "metadata": {},
   "source": [
    "经典求解"
   ]
  },
  {
   "cell_type": "code",
   "execution_count": 5,
   "metadata": {},
   "outputs": [],
   "source": [
    "import numpy as np\n",
    "\n",
    "def to_binary_vector(num, length):\n",
    "    \"\"\"Convert an integer to a binary vector of a given length.\"\"\"\n",
    "    return [int(bit) for bit in format(num, f'0{length}b')]\n",
    "\n",
    "def gaussian_elimination_mod2(matrix):\n",
    "    \"\"\"Perform Gaussian elimination on the matrix modulo 2.\"\"\"\n",
    "    rows, cols = matrix.shape\n",
    "    for i in range(rows):\n",
    "        # Ensure the pivot element is 1. If not, swap with a row below that has a 1 in this column\n",
    "        if matrix[i, i] == 0:\n",
    "            for j in range(i + 1, rows):\n",
    "                if matrix[j, i] == 1:\n",
    "                    matrix[[i, j]] = matrix[[j, i]]\n",
    "                    break\n",
    "        # Eliminate the column below the pivot\n",
    "        for j in range(i + 1, rows):\n",
    "            if matrix[j, i] == 1:\n",
    "                matrix[j] = (matrix[j] + matrix[i]) % 2\n",
    "\n",
    "def find_non_trivial_solution(matrix):\n",
    "    \"\"\"Find a non-trivial solution to the system of equations represented by the matrix.\"\"\"\n",
    "    rows, cols = matrix.shape\n",
    "    free_variables = []\n",
    "\n",
    "    # Identify free variables (columns with no pivots)\n",
    "    for col in range(cols - 1):\n",
    "        if np.count_nonzero(matrix[:, col]) == 0:\n",
    "            free_variables.append(col)\n",
    "\n",
    "    if not free_variables:\n",
    "        return np.zeros(cols - 1, dtype=int)\n",
    "    \n",
    "    # Set the first free variable to 1 to find a non-trivial solution\n",
    "    solution = np.zeros(cols - 1, dtype=int)\n",
    "    solution[free_variables[0]] = 1\n",
    "    \n",
    "    # Back substitution to adjust dependent variables\n",
    "    for i in range(rows - 1, -1, -1):\n",
    "        pivot_col = np.argmax(matrix[i, :cols - 1])\n",
    "        if matrix[i, pivot_col] == 1:\n",
    "            solution[pivot_col] = (matrix[i, -1] - np.dot(matrix[i, :cols - 1], solution)) % 2\n",
    "    \n",
    "    return solution\n",
    "\n",
    "def simons_algorithm(measurements, bit_length):\n",
    "    \"\"\"\n",
    "    Main function to solve Simon's problem.\n",
    "    \n",
    "    Parameters:\n",
    "    measurements (list): List of integers representing the measurements.\n",
    "    bit_length (int): Length of the bit strings.\n",
    "    \n",
    "    Returns:\n",
    "    numpy.ndarray: The non-trivial hidden string s.\n",
    "    \"\"\"\n",
    "    # Convert measurements to binary vectors\n",
    "    binary_measurements = np.array([to_binary_vector(m, bit_length) for m in measurements])\n",
    "    # Append a zero column (right-hand side of equations)\n",
    "    augmented_matrix = np.hstack([binary_measurements, np.zeros((len(measurements), 1), dtype=int)])\n",
    "\n",
    "    # Perform Gaussian elimination\n",
    "    gaussian_elimination_mod2(augmented_matrix)\n",
    "    # Find and return the non-trivial solution\n",
    "    non_trivial_solution = find_non_trivial_solution(augmented_matrix)\n",
    "\n",
    "    return non_trivial_solution"
   ]
  },
  {
   "cell_type": "code",
   "execution_count": 6,
   "metadata": {},
   "outputs": [
    {
     "name": "stdout",
     "output_type": "stream",
     "text": [
      "Non-trivial hidden string s: [0 1 0]\n"
     ]
    }
   ],
   "source": [
    "# Example usage\n",
    "measurements = [1, 5]\n",
    "bit_length = 3\n",
    "hidden_string = simons_algorithm(measurements, bit_length)\n",
    "print(\"Non-trivial hidden string s:\", hidden_string)"
   ]
  }
 ],
 "metadata": {
  "kernelspec": {
   "display_name": "qw-simon",
   "language": "python",
   "name": "python3"
  },
  "language_info": {
   "codemirror_mode": {
    "name": "ipython",
    "version": 3
   },
   "file_extension": ".py",
   "mimetype": "text/x-python",
   "name": "python",
   "nbconvert_exporter": "python",
   "pygments_lexer": "ipython3",
   "version": "3.10.12"
  }
 },
 "nbformat": 4,
 "nbformat_minor": 2
}
