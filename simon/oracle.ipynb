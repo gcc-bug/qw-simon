{
 "cells": [
  {
   "cell_type": "markdown",
   "metadata": {},
   "source": [
    "应用pyeda生成参考文档中真值表对应的表达式，即：\n",
    "| $x$ | $f(x)$ |\n",
    " | :-----| ----: |\n",
    " | 000 | 101 | \n",
    " | 001 | 010 | \n",
    " | 010 | 101 | \n",
    " | 011 | 010 | \n",
    " | 100 | 000 | \n",
    " | 101 | 110 | \n",
    " | 110 | 000 | \n",
    " | 111 | 110 | "
   ]
  },
  {
   "cell_type": "code",
   "execution_count": 1,
   "metadata": {},
   "outputs": [
    {
     "name": "stdout",
     "output_type": "stream",
     "text": [
      "f1(A, B, C) = Or(And(~a, ~b, ~c), And(~a, b, ~c), And(a, ~b, c), And(a, b, c))\n",
      "f2(A, B, C) = Or(And(a, ~b, ~c), And(a, b, ~c), And(a, ~b, c), And(a, b, c))\n",
      "f3(A, B, C) = Or(And(~a, ~b, ~c), And(~a, b, ~c))\n"
     ]
    }
   ],
   "source": [
    "from pyeda.inter import exprvar, truthtable, truthtable2expr\n",
    "# Define the input variables\n",
    "a, b , c  = map(exprvar, 'abc')\n",
    "\n",
    "# Define the truth table outputs for each function\n",
    "f1_outputs = [1, 0, 1, 0, 0, 1, 0, 1]  # Output for f1\n",
    "f2_outputs = [0, 1, 0, 1, 0, 1, 0, 1]  # Output for f2\n",
    "f3_outputs = [1, 0, 1, 0, 0, 0, 0, 0]  # Output for f3\n",
    "\n",
    "# Convert truth values to expressions for f1, f2, f3\n",
    "f1 = truthtable([a, b, c], f1_outputs)\n",
    "f2 = truthtable([a, b, c], f2_outputs)\n",
    "f3 = truthtable([a, b, c], f3_outputs)\n",
    "\n",
    "# Convert truth tables to expressions\n",
    "f1_expr = truthtable2expr(f1).simplify()\n",
    "f2_expr = truthtable2expr(f2).simplify()\n",
    "f3_expr = truthtable2expr(f3).simplify()\n",
    "\n",
    "# Print the derived expressions\n",
    "print(\"f1(A, B, C) =\", f1_expr)\n",
    "print(\"f2(A, B, C) =\", f2_expr)\n",
    "print(\"f3(A, B, C) =\", f3_expr)"
   ]
  },
  {
   "cell_type": "markdown",
   "metadata": {},
   "source": [
    "根据逻辑表达式，生成对应的oracle"
   ]
  },
  {
   "cell_type": "code",
   "execution_count": 2,
   "metadata": {},
   "outputs": [
    {
     "data": {
      "text/plain": [
       "[Qubit(QuantumRegister(1, 'a'), 0),\n",
       " Qubit(QuantumRegister(1, 'b'), 0),\n",
       " Qubit(QuantumRegister(1, 'c'), 0),\n",
       " Qubit(QuantumRegister(1, 'return'), 0)]"
      ]
     },
     "execution_count": 2,
     "metadata": {},
     "output_type": "execute_result"
    }
   ],
   "source": [
    "from qiskit.circuit.classicalfunction import classical_function\n",
    "from qiskit.circuit.classicalfunction.types import Int1\n",
    " \n",
    "@classical_function\n",
    "def simon_oracle_f1(a: Int1, b: Int1, c: Int1) -> Int1:\n",
    "    return (not a and not c) or (a and c)\n",
    "@classical_function\n",
    "def simon_oracle_f2(a: Int1, b: Int1, c: Int1) -> Int1:\n",
    "    return a\n",
    "@classical_function\n",
    "def simon_oracle_f3(a: Int1, b: Int1, c: Int1) -> Int1:\n",
    "    return not a and not c\n",
    " \n",
    "f1 = simon_oracle_f1.synth(registerless=False)\n",
    "f2 = simon_oracle_f2.synth(registerless=False)\n",
    "f3 = simon_oracle_f3.synth(registerless=False)\n",
    "\n",
    "# f2.compose(f3)\n",
    "# f1.compose(f2)\n",
    "f2.qubits"
   ]
  },
  {
   "cell_type": "markdown",
   "metadata": {},
   "source": [
    "根据oracle生成所需的线路，并运行"
   ]
  },
  {
   "cell_type": "code",
   "execution_count": 3,
   "metadata": {},
   "outputs": [
    {
     "name": "stdout",
     "output_type": "stream",
     "text": [
      "     ┌───┐     \n",
      "q_0: ┤ H ├──■──\n",
      "     └───┘┌─┴─┐\n",
      "q_1: ─────┤ X ├\n",
      "          └───┘\n",
      "q_2: ──────────\n",
      "               \n"
     ]
    }
   ],
   "source": [
    "from qiskit import QuantumCircuit\n",
    "\n",
    "# Create the main circuit\n",
    "main_circuit = QuantumCircuit(3)\n",
    "\n",
    "# Create a sub-circuit\n",
    "sub_circuit = QuantumCircuit(2)\n",
    "sub_circuit.h(0)\n",
    "sub_circuit.cx(0, 1)\n",
    "\n",
    "# Compose the sub_circuit into the main_circuit\n",
    "# This inserts sub_circuit at qubits [0, 1] of main_circuit\n",
    "main_circuit.compose(sub_circuit, qubits=[0, 1], inplace=True)\n",
    "\n",
    "print(main_circuit)\n"
   ]
  }
 ],
 "metadata": {
  "kernelspec": {
   "display_name": "qw-simon",
   "language": "python",
   "name": "python3"
  },
  "language_info": {
   "codemirror_mode": {
    "name": "ipython",
    "version": 3
   },
   "file_extension": ".py",
   "mimetype": "text/x-python",
   "name": "python",
   "nbconvert_exporter": "python",
   "pygments_lexer": "ipython3",
   "version": "3.10.12"
  }
 },
 "nbformat": 4,
 "nbformat_minor": 2
}
